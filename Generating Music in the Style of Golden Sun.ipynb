{
 "cells": [
  {
   "cell_type": "markdown",
   "metadata": {},
   "source": [
    "# Generating Music in the Style of Golden Sun\n",
    "Having taken a course on Recurrent Neural Networks (RNNs) on Coursera, I looked for a small project that involved generating sequence data from sample sequences. I found an [inspiring article](https://towardsdatascience.com/how-to-generate-music-using-a-lstm-neural-network-in-keras-68786834d4c5) online that used RNNs to generate music in the style of Final Fantasy, an (apparently) popular video game series.\n",
    "\n",
    "Since I have never played any title of this series, I had no quick way to evaluate the performance of the proposed model. But the idea seemed cool enough to try something similar myself. While brainstorming I had ideas for multiple game soundtracks. One choice, however, was ahead of the curve: Golden Sun, a two (well, actually three, but let's not talk about the third) part RPG series on the Game Boy Advance video game system that was released around 2000. Based on Sigurður Skúli's article, we will build a similar model in TensorFlow."
   ]
  },
  {
   "cell_type": "code",
   "execution_count": 1,
   "metadata": {},
   "outputs": [
    {
     "data": {
      "image/jpeg": "[encoded data removed]",
      "text/plain": [
       "<IPython.core.display.Image object>"
      ]
     },
     "metadata": {},
     "output_type": "display_data"
    },
    {
     "name": "stdout",
     "output_type": "stream",
     "text": [
      "Quelle: Von unbekannt - http://www.nintendo.com, Logo, https://de.wikipedia.org/w/index.php?curid=2933259\n"
     ]
    }
   ],
   "source": [
    "from IPython.display import Image, display\n",
    "display(Image(filename='./Resources/Golden_sun_logo.jpg'))\n",
    "print('Quelle: Von unbekannt - http://www.nintendo.com, Logo, https://de.wikipedia.org/w/index.php?curid=2933259')"
   ]
  },
  {
   "cell_type": "markdown",
   "metadata": {},
   "source": [
    "Golden Sun has always been one of my favorite games back in the day but still continues to impress my with its overwhelming soundtrack. The idea of generating similar but shiny and new tracks in that particular style. YouTube contains a vast amount of melodies from the original soundtrack like this one below."
   ]
  },
  {
   "cell_type": "code",
   "execution_count": 2,
   "metadata": {},
   "outputs": [
    {
     "data": {
      "image/jpeg": "[encoded data removed]",
      "text/html": [
       "\n",
       "        <iframe\n",
       "            width=\"400\"\n",
       "            height=\"300\"\n",
       "            src=\"https://www.youtube.com/embed/rl16-7wZmFY\"\n",
       "            frameborder=\"0\"\n",
       "            allowfullscreen\n",
       "        ></iframe>\n",
       "        "
      ],
      "text/plain": [
       "<IPython.lib.display.YouTubeVideo at 0x2bf08e2b2b0>"
      ]
     },
     "execution_count": 2,
     "metadata": {},
     "output_type": "execute_result"
    }
   ],
   "source": [
    "from IPython.display import YouTubeVideo\n",
    "YouTubeVideo('rl16-7wZmFY')"
   ]
  },
  {
   "cell_type": "markdown",
   "metadata": {},
   "source": [
    "Now that the reader, i.e. you, is also interested in generating similar sounds, we can dive into the data retrieval, pre-processing and finally model building steps before we start generating awesome music."
   ]
  },
  {
   "cell_type": "code",
   "execution_count": 3,
   "metadata": {},
   "outputs": [],
   "source": [
    "import tensorflow as tf\n",
    "import numpy as np\n",
    "from music21 import converter, instrument, note, chord, stream\n",
    "import glob\n",
    "import concurrent.futures\n",
    "import os\n",
    "\n",
    "np.random.seed(123)"
   ]
  },
  {
   "cell_type": "markdown",
   "metadata": {},
   "source": [
    "## Converting the Music to a Suitable Format\n",
    "We will use music21 to convert the music into one-hot encoded data. The code can be found in the original linked article. We will use some minor modifications to this code. For example, we will use multithreading to minimize CPU idle time while waiting for I/O."
   ]
  },
  {
   "cell_type": "code",
   "execution_count": 4,
   "metadata": {},
   "outputs": [],
   "source": [
    "PATH_TO_MUSIC = r\"D:\\Users\\Dominiks Ordner\\Git Repositories\\Golden-Sun-Music-Generator\\Midis\\nintendo\\gba\\Golden Sun\"\n",
    "\n",
    "midi_iterator = sorted(list(glob.glob(PATH_TO_MUSIC + \"/*.mid\")))[:15]\n",
    "\n",
    "def get_midi_content_from_file(file):\n",
    "    notes_in_file = list()\n",
    "    midi = converter.parse(file)\n",
    "    notes_to_parse = None\n",
    "    parts = instrument.partitionByInstrument(midi)\n",
    "    if parts: # file has instrument parts\n",
    "        notes_to_parse = parts.parts[0].recurse()\n",
    "    else: # file has notes in a flat structure\n",
    "        notes_to_parse = midi.flat.notes\n",
    "    for element in notes_to_parse:\n",
    "        if isinstance(element, note.Note):\n",
    "            notes_in_file.append(str(element.pitch))\n",
    "        elif isinstance(element, chord.Chord):\n",
    "            notes_in_file.append('.'.join(str(n) for n in element.normalOrder))\n",
    "    return notes_in_file  \n",
    "\n",
    "notes = list()\n",
    "\n",
    "with concurrent.futures.ThreadPoolExecutor(5) as executor:\n",
    "    jobs = {executor.submit(get_midi_content_from_file, file): file for file in midi_iterator}\n",
    "    for future in concurrent.futures.as_completed(jobs):\n",
    "        file = jobs[future]\n",
    "        try:\n",
    "            data = future.result()\n",
    "            notes.append(data)\n",
    "        except Exception as e:\n",
    "            print('%r generated an exception: %s' % (url, e))"
   ]
  },
  {
   "cell_type": "markdown",
   "metadata": {},
   "source": [
    "Sigurður Skúli described what the loading process does in detail:\n",
    "\n",
    "> We start by loading each file into a Music21 stream object using the converter.parse(file) function. Using that stream object we get a list of all the notes and chords in the file. We append the pitch of every note object using its string notation since the most significant parts of the note can be recreated using the string notation of the pitch. And we append every chord by encoding the id of every note in the chord together into a single string, with each note being separated by a dot. These encodings allows us to easily decode the output generated by the network into the correct notes and chords."
   ]
  },
  {
   "cell_type": "markdown",
   "metadata": {},
   "source": [
    "We obtain a list of lists by executing the code above. The outer lists represents the collection of individual music files while the inner lists represent the notes and chords within a single file. In order to work with this data, we need to one-hot encode each file. Later, we will treat each file as a numpy array. The first dimension will depict the position of that note/chord within the file while the second dimension will correspond to the encoding.\n",
    "\n",
    "We start by finding the individual labels that our noted and chords have. Then, we can continue by forming the one-hot encoded matrix utilizing a mapping from features to their corresponding integer-based index."
   ]
  },
  {
   "cell_type": "code",
   "execution_count": 5,
   "metadata": {},
   "outputs": [],
   "source": [
    "features = np.array(list(set([note for file in notes for note in file])))\n",
    "feature_to_idx = {ft: idx for idx, ft in enumerate(features)}\n",
    "\n",
    "def one_hot_matrix(vector, feature_to_idx):\n",
    "    \"\"\"Converts an array-like object to a one-hot vector. The second argument is a mapping from values to integer indices that\n",
    "    defines the order of the columns in the one-hot represenation.\"\"\"\n",
    "    ohm = np.zeros((len(vector), len(feature_to_idx)), dtype=float)\n",
    "    ohm[np.arange(len(vector)), list(map(feature_to_idx.get, vector))] = 1\n",
    "    return ohm\n",
    "\n",
    "encoded_files = [one_hot_matrix(file, feature_to_idx) for file in notes]"
   ]
  },
  {
   "cell_type": "markdown",
   "metadata": {},
   "source": [
    "We now prepared each file to be a temporal one-hot encoded matrix. Next, we will perform some sampling to get our training data. The training set $X$ should comprise $m$ samples. Each sample should have be a sequence of fixed length, say $T_x$ The last. Each part of such as sequence is a single note or chord, encoded by a one-hot vector with some length $n_f$. Consequently, the whole training set will be in $\\{0, 1\\}^{m\\times T_x \\times n_f}$, i.e. a matrix of shape $(m, T_x, n_f)$. It should be noted, however, that using a one-hot representation requires a large amount of memory. It might be advisable to only load small batches into memory. This reduces the performance of the training process for obvious reasons but allows us to utilize vast amounts of data even on normal machines.\n",
    "\n",
    "To construct the training set, we will take sequences from our file represenations and randomize their order."
   ]
  },
  {
   "cell_type": "code",
   "execution_count": 6,
   "metadata": {},
   "outputs": [],
   "source": [
    "def get_training_data_of_fixed_length(encoded_files, T_x):\n",
    "    \"\"\"Returns X and Y training data. 'encoded_files' should be a list with one-hot encoded arrays of shape (T, n_f) where T is\n",
    "    the number of temporal units in that file and n_f is the number of features.\n",
    "    This returns connected slices (X_train and Y_train of shapes (?, T_x, n_f) respectively) from the training data, i.e. some\n",
    "    number T_x of subsequent note or chords. The Y values are shifted by one temporal unit to the left so that Y[i] is actually\n",
    "    the note or chord after X[i] in the sequence.\"\"\"\n",
    "    base = np.array([encoded_file[i:i+T_x+1] for encoded_file in encoded_files for i in range(len(encoded_file) - T_x - 1)],\n",
    "                   dtype=float)\n",
    "    np.random.shuffle(base)\n",
    "    X_train = base[:, :-1, :]\n",
    "    Y_train = base[:, 1:, :]\n",
    "    return X_train, Y_train"
   ]
  },
  {
   "cell_type": "markdown",
   "metadata": {},
   "source": [
    "We conclude this section with some remarks. Firstly, we did not cover any type of \"playback speed\". We did not include any type of pause after a note or a chord, so each note will have the same length for playback. This would be a promising feature to include in future iterations. Secondly. Using overlapping sequences will put a major focus on the middle part of each music file. This is necessary to easily deal with varying lengths. Instead, it would be possible to use the files as a whole.\n",
    "\n",
    "In a future iteration of this approach, it is advisable to re-evaluate this methodology."
   ]
  },
  {
   "cell_type": "markdown",
   "metadata": {},
   "source": [
    "## Building the Model\n",
    "The next step is building the model. Using Tensorflow, we will build a simple Long Short Term Memory (LSTM) one-directional RNN. Below, a schematic of the model architecture is presented. \n",
    "\n",
    "\\INSERT IMAGE HERE\\\n",
    "\n",
    "To get started, we will treat this as a common multi-class classification problem. As such, a valid cost function is the cross-entropy loss function:\n",
    "$${\\rm cost} = -\\frac{1}{m \\cdot T \\cdot n_f}\\sum\\limits_{i=1}^{m}\\sum\\limits_{t=1}^{T}\\sum\\limits_{j=1}^{n_f} y_{i, t, j} \\cdot \\log(\\hat{y}_{i, t, j}) + (1 - y_{i, t, j}) \\cdot \\log(1 - \\hat{y}_{i, t, j})$$\n",
    "Here, $y_{i, t, j} = 1$ if the $t$-th sequence element of the $i$-th training example belongs to class $j$ and $0$ otherwise. $\\hat{y}_{i, t, j}$ is the estimated conditional probability of the $t$-th sequence element of the $i$-th training example belonging to the $j$-th class. The conditioning is with respect to $y_{i, 1, j}, \\dots, y_{i, t-1, j}$."
   ]
  },
  {
   "cell_type": "code",
   "execution_count": 8,
   "metadata": {},
   "outputs": [
    {
     "name": "stdout",
     "output_type": "stream",
     "text": [
      "Number of entries in dense matrix 36167400\n"
     ]
    }
   ],
   "source": [
    "# We will input music of 20 steps length into the model\n",
    "T_x = 20\n",
    "X_train, Y_train = get_training_data_of_fixed_length(encoded_files, T_x)\n",
    "# Y has to be of shape (seq_length, num_examples, num_features)\n",
    "Y_train = np.transpose(Y_train, [1, 0, 2])\n",
    "\n",
    "print(\"Number of entries in dense matrix\", X_train.shape[0] * X_train.shape[1] * X_train.shape[2])"
   ]
  },
  {
   "cell_type": "markdown",
   "metadata": {},
   "source": [
    "We start by defining a class that stores our model in a structured way and supports multiple training phases. For the moment, we do not implement training on mini-batches. This will be added in a future version."
   ]
  },
  {
   "cell_type": "code",
   "execution_count": 9,
   "metadata": {},
   "outputs": [],
   "source": [
    "class Model(object):\n",
    "    def __init__(self, n_hidden = 128, save_location='./model_iter/', suffix=\"iteration\"):\n",
    "        self._n_hidden = n_hidden\n",
    "        self._save_location = save_location\n",
    "        self._save_suffix = suffix\n",
    "    \n",
    "    def train_from_scratch(self, X_train, Y_train, num_iterations=100, learning_rate=0.03):\n",
    "        \"\"\"Builds an RNN with LSTM cells.\"\"\"\n",
    "        n_f = X_train.shape[2] # Num features\n",
    "        T_x = X_train.shape[1] # Sequence length\n",
    "        m = X_train.shape[0] # Num training examples\n",
    "        tf.reset_default_graph()\n",
    "        \n",
    "        # Placeholders for Input. X is of shape num_examples, sequence_length, num_features\n",
    "        # and Y is of shape \n",
    "        X = tf.placeholder(dtype=tf.float32, shape=(None, None, n_f), name=\"Input_Placeholder\")\n",
    "        Y = tf.placeholder(dtype=tf.float32, shape=(None, None, n_f), name=\"Label_Placeholder\")\n",
    "\n",
    "        Wya = tf.get_variable(\"Wya\", shape=(self._n_hidden, n_f), dtype=tf.float32)\n",
    "        by = tf.get_variable(\"By\", shape=(1, n_f), dtype=tf.float32)\n",
    "\n",
    "        # We use a LSTM cell for the computations within each step of the sequence\n",
    "        lstm_cell = tf.contrib.rnn.BasicLSTMCell(self._n_hidden, dtype=tf.float32, name=\"LSTM_Cell\")\n",
    "\n",
    "        layer_outputs, final_state = tf.nn.dynamic_rnn(lstm_cell, X, dtype=tf.float32)\n",
    "\n",
    "        logits = tf.reshape(tf.matmul(tf.reshape(layer_outputs, [-1, self._n_hidden]), Wya) + by, [-1, n_f], name = \"Logits\")\n",
    "        \n",
    "        prediction = tf.nn.softmax(tf.reshape(tf.matmul(tf.reshape(final_state.h, [-1, self._n_hidden]), Wya) + by, [-1, n_f]),\n",
    "                                              name=\"Prediction\")\n",
    "        \n",
    "        # ToDo: Check if transpose is necessary. This might be a cause of confusion and bugs...\n",
    "        labels = tf.reshape(tf.transpose(Y, [1, 0, 2]), [-1, n_f])\n",
    "\n",
    "        mean_loss = tf.reduce_mean(tf.nn.softmax_cross_entropy_with_logits_v2(labels=labels, logits=logits), name=\"Mean_Loss\")\n",
    "\n",
    "        optimizer = tf.train.AdamOptimizer(learning_rate).minimize(mean_loss, name=\"Optimizer\")\n",
    "\n",
    "        # Saver object to save weights\n",
    "        saver = tf.train.Saver(max_to_keep=5, keep_checkpoint_every_n_hours=1)\n",
    "\n",
    "        with tf.Session() as sess:\n",
    "            tf.set_random_seed(123)\n",
    "            sess.run(tf.global_variables_initializer())\n",
    "            for i in range(num_iterations):\n",
    "                _, meanloss, pred = sess.run([optimizer, mean_loss, prediction], feed_dict={X: X_train, Y: Y_train})\n",
    "                self._save_model(saver, sess, i+1)\n",
    "                self._print_progress(i, num_iterations, meanloss)\n",
    "                \n",
    "    def _save_model(self, saver, sess, global_step):\n",
    "        \"\"\"Saves the model and its weight.\"\"\"\n",
    "        saver.save(sess, os.path.join(self._save_location, self._save_suffix), global_step)\n",
    "            \n",
    "    def train_saved_model(self, X_train, Y_train, num_iterations=100):\n",
    "        \"\"\"Loads the saved model with its most recent weights and trains it.\"\"\"\n",
    "        tf.reset_default_graph()\n",
    "        with tf.Session() as sess:\n",
    "            graph, loader = self._get_graph_from_save(sess)\n",
    "            X, Y, mean_loss = [graph.get_tensor_by_name(name) for name in [\"Input_Placeholder:0\", \"Label_Placeholder:0\",\n",
    "                                                                                   \"Mean_Loss:0\"]]\n",
    "            optimizer = graph.get_operation_by_name(\"Optimizer\")\n",
    "            for i in range(num_iterations):\n",
    "                _, ml = sess.run([optimizer, mean_loss], feed_dict={X: X_train, Y: Y_train})\n",
    "                self._save_model(loader, sess, i+1)\n",
    "                self._print_progress(i, num_iterations, ml)\n",
    "                \n",
    "    def _get_graph_from_save(self, sess):\n",
    "        \"\"\"Returns a graph object and a suitable saver object from a stored graph.\"\"\"\n",
    "        loader = tf.train.import_meta_graph(os.path.join(self._save_location, self._get_latest_save()))\n",
    "        loader.restore(sess,tf.train.latest_checkpoint(self._save_location))\n",
    "        graph = tf.get_default_graph()\n",
    "        return graph, loader\n",
    "        \n",
    "    def _get_latest_save(self):\n",
    "        \"\"\"Returns the name of the latest graph file on disk.\"\"\"\n",
    "        saves = [file for file in os.scandir(self._save_location) if file.name.lower().endswith(\".meta\")]\n",
    "        return max(saves, key=lambda file: file.stat().st_mtime).name\n",
    "    \n",
    "    @staticmethod\n",
    "    def _print_progress(i, total_iterations, loss):\n",
    "        print(\"\\rIteration:\", str(i+1), \"of\", str(total_iterations), \"Loss:\", loss, \"\\t\\t\", end='', flush=True)\n",
    "        \n",
    "    def sample_from_saved_model(self, X_1, sequence_length=2):\n",
    "        \"\"\"Samples from the trained model.X_1 should be the first element in the output sequence and be of shape\n",
    "        (num_samples, 1, num_features). The sequence length determines the total length of the output sequence(s).\"\"\"\n",
    "        with tf.Session() as sess:\n",
    "            graph, _ = self._get_graph_from_save(sess)\n",
    "            X, pred = [graph.get_tensor_by_name(name) for name in [\"Input_Placeholder:0\", \"Prediction:0\"]]\n",
    "            predicted_values = X_1\n",
    "            m = predicted_values.shape[0]\n",
    "            n_f = predicted_values.shape[2]\n",
    "            for i in range(sequence_length - 1):\n",
    "                predicted_next_value = sess.run(pred, feed_dict={X: predicted_values}).argmax(axis=1)\n",
    "                next_note = np.zeros((m, 1, n_f))\n",
    "                next_note[np.arange(m), 0, predicted_next_value] = 1\n",
    "                predicted_values = np.concatenate([predicted_values, next_note], axis=1)\n",
    "            return predicted_values"
   ]
  },
  {
   "cell_type": "markdown",
   "metadata": {},
   "source": [
    "## Training the Model\n",
    "Using the model blueprint we defined above, let us now build a model and train it. Note that it is automatically saved on the hard drive. Stopping the training process at some point is not an issue for this reason.\n",
    "##### Warning: If you have already trained this model, you should comment out the \"train from scratch line\" to avoid deleting all previously trained weights!"
   ]
  },
  {
   "cell_type": "code",
   "execution_count": 10,
   "metadata": {},
   "outputs": [
    {
     "name": "stdout",
     "output_type": "stream",
     "text": [
      "Iteration: 100 of 100 Loss: 0.4666874 \t\t"
     ]
    }
   ],
   "source": [
    "model = Model()\n",
    "model.train_from_scratch(X_train, Y_train, 100)"
   ]
  },
  {
   "cell_type": "markdown",
   "metadata": {},
   "source": [
    "If we wish to continue training, we can easily load the model from the hard drive including all training progress."
   ]
  },
  {
   "cell_type": "code",
   "execution_count": 20,
   "metadata": {},
   "outputs": [
    {
     "name": "stdout",
     "output_type": "stream",
     "text": [
      "INFO:tensorflow:Restoring parameters from ./model_iter/iteration-20\n",
      "Iteration: 20 of 20 Loss: 0.24639499 \t\t"
     ]
    }
   ],
   "source": [
    "model.train_saved_model(X_train, Y_train, 20)"
   ]
  },
  {
   "cell_type": "markdown",
   "metadata": {},
   "source": [
    "## Generating Music\n",
    "We have come to the heart of the project: Generating actual new music from the learned style. To do so, we will use the model we have constructed and trained minutes ago. The starting point is a randomly generated note or chord $x_1$ (from the training data). Next, we will compute the probability mass function for $x_2$ conditioning on $x_1$. Drawing the most likely note or chord, we will choose the second note in the sequence. Using the same strategy with drawing the most likely input from the conditional proability mass functions $p(x_{t+1} \\mid x_1, \\dots, x_t)$, we obtain a complete piece of music.\n",
    "\n",
    "Using a helper function to draw samples is now an easy way to draw random samples and to convert them back to note and chords."
   ]
  },
  {
   "cell_type": "code",
   "execution_count": 24,
   "metadata": {},
   "outputs": [],
   "source": [
    "def draw_sample(model, start_note, total_length):\n",
    "    \"\"\"Draws a sample of notes from the model. start_note should be of shape (1, 1, num_features).\"\"\"\n",
    "    values = model.sample_from_saved_model(start_note, total_length)\n",
    "    prediction_output = list(features[values[0, :, :].argmax(axis=1)])\n",
    "    return prediction_output"
   ]
  },
  {
   "cell_type": "markdown",
   "metadata": {},
   "source": [
    "To store the music, we use a slight modification of Sigurður Skúli's code."
   ]
  },
  {
   "cell_type": "code",
   "execution_count": 25,
   "metadata": {},
   "outputs": [],
   "source": [
    "def make_midi_file(prediction_output, output_file='test_output.mid', note_length=0.3):\n",
    "    offset = 0\n",
    "    output_notes = []\n",
    "    # create note and chord objects based on the values generated by the model\n",
    "    for pattern in prediction_output:\n",
    "        # pattern is a chord\n",
    "        if ('.' in pattern) or pattern.isdigit():\n",
    "            notes_in_chord = pattern.split('.')\n",
    "            notes = []\n",
    "            for current_note in notes_in_chord:\n",
    "                new_note = note.Note(int(current_note))\n",
    "                notes.append(new_note)\n",
    "            new_chord = chord.Chord(notes)\n",
    "            new_chord.offset = offset\n",
    "            output_notes.append(new_chord)\n",
    "        # pattern is a note\n",
    "        else:\n",
    "            new_note = note.Note(pattern)\n",
    "            new_note.offset = offset\n",
    "            output_notes.append(new_note)\n",
    "        # increase offset each iteration so that notes do not stack\n",
    "        offset += note_length\n",
    "    midi_stream = stream.Stream(output_notes)\n",
    "    midi_stream.write('midi', output_file)"
   ]
  },
  {
   "cell_type": "markdown",
   "metadata": {},
   "source": [
    "To conclude, we generate some new pieces of music with a final helper function:"
   ]
  },
  {
   "cell_type": "code",
   "execution_count": 26,
   "metadata": {},
   "outputs": [
    {
     "name": "stdout",
     "output_type": "stream",
     "text": [
      "INFO:tensorflow:Restoring parameters from ./model_iter/iteration-20\n"
     ]
    }
   ],
   "source": [
    "def create_random_sample(length=100, output_file='test_output.mid', note_length=0.3):\n",
    "    start_note = np.zeros((1, 1, len(features)))\n",
    "    start_note[0, 0, np.random.randint(len(features))] = 1\n",
    "    prediction_output = draw_sample(model, start_note, length)\n",
    "    make_midi_file(prediction_output, output_file='test_output.mid', note_length=0.3)\n",
    "    \n",
    "create_random_sample(500)"
   ]
  },
  {
   "cell_type": "markdown",
   "metadata": {},
   "source": [
    "## Outlook\n",
    "We have achieved some decent results with our simplified implementation. However, there are areas to improve.\n",
    "\n",
    "First of all, the memory consumption has been a harsh constraint in our script. Implement optimization on mini batches will lead to reduced memory consumption at the cost of longer computations because the training data will be read from the hard drive multiple times. This would allow us to include more training samples.\n",
    "\n",
    "The whole data representation could be done in a different way. For example, it would be an idea not only to predict the next note or chord from a large number of categories but actually predicting frequencies and durations along with instruments. Another approach would be to predict how many notes will be played at the next time step, say $k$, and then to take the $k$ most likely notes as a chord.\n",
    "\n",
    "A third way to improve the output could be to try a different model or a different optimizer such as RMSProp. In terms of model architecture, additional layers before computing the output could be included. "
   ]
  },
  {
   "cell_type": "code",
   "execution_count": null,
   "metadata": {},
   "outputs": [],
   "source": []
  }
 ],
 "metadata": {
  "kernelspec": {
   "display_name": "Python 3",
   "language": "python",
   "name": "python3"
  },
  "language_info": {
   "codemirror_mode": {
    "name": "ipython",
    "version": 3
   },
   "file_extension": ".py",
   "mimetype": "text/x-python",
   "name": "python",
   "nbconvert_exporter": "python",
   "pygments_lexer": "ipython3",
   "version": "3.6.4"
  }
 },
 "nbformat": 4,
 "nbformat_minor": 1
}
